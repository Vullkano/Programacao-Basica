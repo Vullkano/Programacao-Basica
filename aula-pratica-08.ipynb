{
 "cells": [
  {
   "cell_type": "markdown",
   "metadata": {},
   "source": [
    "# Aula Prática 8 - tipos estruturados de informação, Ficheiros e Exceções\n",
    "\n",
    "Os objetivos desta aula são os seguintes: continuar a exercitar a utilização de tipos estruturados de informação, leitura e escrita de ficheiros e utilização de exceções. Após a realização da aula, o estudante deverá:\n",
    "\n",
    "- ficar mais familiarizado com a noção de tuplo, lista e dicionário\n",
    "- saber ler e escrever num ficheiro de texto\n",
    "- saber lidar com exceções \n",
    "- saber introduzir pré-condições"
   ]
  },
  {
   "cell_type": "markdown",
   "metadata": {},
   "source": [
    "#### 1. Considerando o exercício da agenda telefónica da aula passada, adicione opções para ler e escrever o conteúdo da agenda num ficheiro. \n",
    "\n",
    "Uma agenda é composta por contactos telefónicos, em que cada contacto telefónico tem os atributos *nome*, *telefone*, *email* principal (opcional). \n",
    "Deverá definir a classe de objetos `Agenda` deve permitir todas as operações seguintes.\n",
    "\n",
    "1. Adicionar um contacto à agenda\n",
    "2. Listar os contactos existentes\n",
    "3. ...\n",
    "4. ...\n",
    "5. ...\n",
    "6. ...\n",
    "7. Escrever a lista telefónica para um ficheiro (gravar)\n",
    "8. Ler a lista telefónica de um ficheiro (ler)\n",
    "\n",
    "Escreva um programa que apresenta o menu anterior ao utilizador e, consoante a sua escolha faz a operação correspondente. O programa termina quando o utilizador introduzir a opção 0. \n",
    "\n",
    "Caso o ficheiro de leitura não exista, deve informar o utilizador."
   ]
  },
  {
   "cell_type": "code",
   "execution_count": 3,
   "metadata": {},
   "outputs": [],
   "source": [
    "# Class Contacto\n",
    "\n",
    "class Contacto:\n",
    "    def __init__(self, nome:str, telefone:int, email:str=\"\") -> None:\n",
    "        assert type(nome) == str\n",
    "        assert type(telefone) == int\n",
    "        assert type(email) == str\n",
    "        \n",
    "        self.__nome = nome\n",
    "        self.telefone = telefone\n",
    "        self.email = email\n",
    "\n",
    "    @property\n",
    "    def nome(self):\n",
    "        return self.__nome\n",
    "    \n",
    "    def __str__(self):\n",
    "        return f\"Nome: {self.__nome} | Telefone: {self.telefone} | Email: {self.email}\"\n",
    "\n",
    "C1 = Contacto(\"João Silva\", 912345678, \"joao.silva@gmail.com\")\n",
    "C2 = Contacto(\"Maria Costa\", 913456789, \"maria.costa@hotmail.com\")\n",
    "C3 = Contacto(\"Pedro Almeida\", 914567890, \"pedro.almeida@yahoo.com\")\n",
    "C4 = Contacto(\"Ana Ramos\", 915678901)\n",
    "C5 = Contacto(\"Luís Santos\", 916789012, \"luis.santos@outlook.com\")\n",
    "C6 = Contacto(\"Sofia Ferreira\", 917890123, \"sofia.ferreira@gmail.com\")\n",
    "C7 = Contacto(\"Ricardo Lopes\", 918901234)\n",
    "C8 = Contacto(\"Carla Nunes\", 919012345, \"carla.nunes@gmail.com\")\n",
    "C9 = Contacto(\"Tiago Moreira\", 920123456, \"tiago.moreira@icloud.com\")\n",
    "C10 = Contacto(\"Helena Cruz\", 921234567, \"helena.cruz@gmail.com\")"
   ]
  },
  {
   "cell_type": "code",
   "execution_count": 7,
   "metadata": {},
   "outputs": [
    {
     "name": "stdout",
     "output_type": "stream",
     "text": [
      "Nome: João Silva | Telefone: 912345678 | Email: joao.silva@gmail.com\n",
      "Nome: Maria Costa | Telefone: 913456789 | Email: maria.costa@hotmail.com\n",
      "Nome: Pedro Almeida | Telefone: 914567890 | Email: pedro.almeida@yahoo.com\n",
      "Nome: Ana Ramos | Telefone: 915678901 | Email: \n",
      "Nome: Luís Santos | Telefone: 916789012 | Email: luis.santos@outlook.com\n",
      "Nome: Sofia Ferreira | Telefone: 917890123 | Email: sofia.ferreira@gmail.com\n",
      "Nome: Ricardo Lopes | Telefone: 918901234 | Email: \n",
      "Nome: Carla Nunes | Telefone: 919012345 | Email: carla.nunes@gmail.com\n",
      "Nome: Tiago Moreira | Telefone: 920123456 | Email: tiago.moreira@icloud.com\n",
      "Nome: Helena Cruz | Telefone: 921234567 | Email: helena.cruz@gmail.com\n"
     ]
    }
   ],
   "source": [
    "# Class Agenda [Lista]\n",
    "\n",
    "class Agenda:\n",
    "    def __init__(self) -> None:\n",
    "        self.__Agenda = []\n",
    "\n",
    "    def addContacto(self, C:Contacto):\n",
    "        self.__Agenda.append(C)\n",
    "\n",
    "    def listarContactos(self):\n",
    "        for i in self.__Agenda:\n",
    "            print(i)\n",
    "\n",
    "    def detailContacto(self, nome:str):\n",
    "        for i in self.__Agenda:\n",
    "            if i.nome == nome:\n",
    "                print(i)\n",
    "\n",
    "    def removeContacto(self, nome:str):\n",
    "        for i in self.__Agenda:\n",
    "            if i.nome == nome:\n",
    "                self.__Agenda.remove(i)\n",
    "\n",
    "    def alterarTelefone(self, nome:str, telefone:int):\n",
    "        for i in self.__Agenda:\n",
    "            if i.nome == nome:\n",
    "                i.telefone = telefone\n",
    "\n",
    "    def listarFiltroContactos(self, filtro:str):\n",
    "        for i in self.__Agenda:\n",
    "            if filtro in i.nome:\n",
    "                print(i)\n",
    "\n",
    "    def guardarAgenda(self, file_name:str):\n",
    "        f = open(file_name, 'w') \n",
    "        for linha in self.__Agenda: \n",
    "            f.write(linha)\n",
    "        f.close()\n",
    "\n",
    "A1 = Agenda()\n",
    "A1.addContacto(C1)\n",
    "A1.addContacto(C2)\n",
    "A1.addContacto(C3)\n",
    "A1.addContacto(C4)\n",
    "A1.addContacto(C5)\n",
    "A1.addContacto(C6)\n",
    "A1.addContacto(C7)\n",
    "A1.addContacto(C8)\n",
    "A1.addContacto(C9)\n",
    "A1.addContacto(C10)\n",
    "\n",
    "A1.listarContactos()"
   ]
  },
  {
   "cell_type": "code",
   "execution_count": null,
   "metadata": {},
   "outputs": [],
   "source": []
  },
  {
   "cell_type": "markdown",
   "metadata": {},
   "source": [
    "#### 2. Pretende-se desenvolver um programa que permita gerir uma fila de espera de uma repartição pública.  \n",
    "O funcionamento que se pretende para a repartição é o seguinte:\n",
    "- Quando um utente entra na repartição, é-lhe pedido o seu número do bilhete de identidade.  Este número é depois dado pelo funcionário que opera o sistema ao programa a desenvolver para inserção na fila de espera. Para isso o funcionário selecciona a opção apropriada do programa;\n",
    "- Quando a (única) cabina de atendimento fica livre, o operador do sistema selecciona no programa a opção de retirar o número do bilhete de identidade do utente há mais tempo à espera, sendo esse número mostrado ao operador (que depois o anuncia) e retirado da fila de espera gerida pelo programa;\n",
    "- O operador pode também simplesmente ver qual o número do bilhete de identidade do próximo utente a ser atendido, sem para isso precisar de o retirar da fila de espera.  Para tal deve seleccionar no programa uma opção apropriada;\n",
    "- Podem estar à espera na sala um máximo de 12 (por exemplo) utentes.  Se entrar o 13º utente, o programa deve-se recusar a inseri-lo na fila de espera.\n",
    "\n",
    "Desenvolva a classe fila de espera de modo a que o funcionamento acima seja possível. Na construção de um objeto deste tipo deve ser fornecido ao construtor o número máximo de pessoas admitido. "
   ]
  },
  {
   "cell_type": "code",
   "execution_count": null,
   "metadata": {},
   "outputs": [],
   "source": []
  }
 ],
 "metadata": {
  "kernelspec": {
   "display_name": "Python 3",
   "language": "python",
   "name": "python3"
  },
  "language_info": {
   "codemirror_mode": {
    "name": "ipython",
    "version": 3
   },
   "file_extension": ".py",
   "mimetype": "text/x-python",
   "name": "python",
   "nbconvert_exporter": "python",
   "pygments_lexer": "ipython3",
   "version": "3.12.7"
  }
 },
 "nbformat": 4,
 "nbformat_minor": 4
}
